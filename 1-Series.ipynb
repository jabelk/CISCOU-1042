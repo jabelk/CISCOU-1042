{
 "cells": [
  {
   "cell_type": "markdown",
   "id": "ed0c5565-4b68-41aa-bdd6-9677d51b8485",
   "metadata": {},
   "source": [
    "### **1. Use Jupyter Widgets for Interactive Input (Instead of Static Code)**\n",
    "- Jupyter has **`input()` functions and widgets** that let you dynamically change command parameters.  \n",
    "- Instead of hardcoding a command like `show ip interface brief`, let the user **type a command into a text box** and execute it dynamically.\n",
    "\n",
    "#### **Example:** Run Any Show Command Dynamically\n"
   ]
  },
  {
   "cell_type": "code",
   "execution_count": 1,
   "id": "6dba7419-aa26-4b0a-9345-8ea580f73521",
   "metadata": {},
   "outputs": [
    {
     "name": "stdin",
     "output_type": "stream",
     "text": [
      "Enter a show command to run:  show ip int br\n"
     ]
    },
    {
     "name": "stdout",
     "output_type": "stream",
     "text": [
      "Interface              IP-Address      OK? Method Status                Protocol\n",
      "GigabitEthernet1       10.10.20.48     YES NVRAM  up                    up      \n",
      "GigabitEthernet2       unassigned      YES NVRAM  administratively down down    \n",
      "GigabitEthernet3       unassigned      YES NVRAM  administratively down down    \n",
      "Loopback0              10.0.0.1        YES NVRAM  up                    up      \n",
      "Loopback10             unassigned      YES unset  up                    up      \n",
      "Loopback109            10.255.255.9    YES NVRAM  up                    up      \n",
      "VirtualPortGroup0      192.168.1.1     YES NVRAM  up                    up      \n"
     ]
    }
   ],
   "source": [
    "from netmiko import ConnectHandler\n",
    "\n",
    "# Connect to device\n",
    "device = {\n",
    "    \"device_type\": \"cisco_ios\",\n",
    "    \"host\": \"10.10.20.48\",\n",
    "    \"username\": \"developer\",\n",
    "    \"password\": \"C1sco12345\",\n",
    "}\n",
    "\n",
    "net_connect = ConnectHandler(**device)\n",
    "\n",
    "# Get user input for command\n",
    "command = input(\"Enter a show command to run: \")\n",
    "\n",
    "# Execute and display output\n",
    "output = net_connect.send_command(command)\n",
    "print(output)"
   ]
  },
  {
   "cell_type": "markdown",
   "id": "4a3dde2e-2a68-4ee7-977f-3c62c3c88b0f",
   "metadata": {},
   "source": [
    "\n",
    "### **2. Use Jupyter’s `%%time` Magic Command to Measure Execution Time**\n",
    "- This helps network engineers see how long commands take, useful for automation scripts.  \n",
    "- Example: Compare execution time for different `show` commands.  \n",
    "\n",
    "#### **Example: Timing a Show Command**\n"
   ]
  },
  {
   "cell_type": "code",
   "execution_count": 2,
   "id": "76f6fa69-ba1d-4f67-b899-17c847cc84d9",
   "metadata": {},
   "outputs": [
    {
     "name": "stdout",
     "output_type": "stream",
     "text": [
      "Cisco IOS XE Software, Version 17.12.02\n",
      "Cisco IOS Software [Dublin], Virtual XE Software (X86_64_LINUX_IOSD-UNIVERSALK9-M), Version 17.12.2, RELEASE SOFTWARE (fc2)\n",
      "Technical Support: http://www.cisco.com/techsupport\n",
      "Copyright (c) 1986-2023 by Cisco Systems, Inc.\n",
      "Compiled Tue 14-Nov-23 05:59 by mcpre\n",
      "\n",
      "\n",
      "Cisco IOS-XE software, Copyright (c) 2005-2023 by cisco Systems, Inc.\n",
      "All rights reserved.  Certain components of Cisco IOS-XE software are\n",
      "licensed under the GNU General Public License (\"GPL\") Version 2.0.  The\n",
      "software code licensed under GPL Version 2.0 is free software that comes\n",
      "with ABSOLUTELY NO WARRANTY.  You can redistribute and/or modify such\n",
      "GPL code under the terms of GPL Version 2.0.  For more details, see the\n",
      "documentation or \"License Notice\" file accompanying the IOS-XE software,\n",
      "or the applicable URL provided on the flyer accompanying the IOS-XE\n",
      "software.\n",
      "\n",
      "\n",
      "ROM: IOS-XE ROMMON\n",
      "\n",
      "cat8000v uptime is 2 days, 17 hours, 34 minutes\n",
      "Uptime for this control processor is 2 days, 17 hours, 37 minutes\n",
      "System returned to ROM by reload\n",
      "System image file is \"bootflash:packages.conf\"\n",
      "Last reload reason: reload\n",
      "\n",
      "\n",
      "\n",
      "This product contains cryptographic features and is subject to United\n",
      "States and local country laws governing import, export, transfer and\n",
      "use. Delivery of Cisco cryptographic products does not imply\n",
      "third-party authority to import, export, distribute or use encryption.\n",
      "Importers, exporters, distributors and users are responsible for\n",
      "compliance with U.S. and local country laws. By using this product you\n",
      "agree to comply with applicable laws and regulations. If you are unable\n",
      "to comply with U.S. and local laws, return this product immediately.\n",
      "\n",
      "A summary of U.S. laws governing Cisco cryptographic products may be found at:\n",
      "http://www.cisco.com/wwl/export/crypto/tool/stqrg.html\n",
      "\n",
      "If you require further assistance please contact us by sending email to\n",
      "export@cisco.com.\n",
      "\n",
      "License Level: \n",
      "License Type: Perpetual\n",
      "Next reload license Level: \n",
      "\n",
      "Addon License Level: \n",
      "Addon License Type: Subscription\n",
      "Next reload addon license Level: \n",
      "\n",
      "The current throughput level is 250000 kbps \n",
      "\n",
      "\n",
      "Smart Licensing Status: Smart Licensing Using Policy\n",
      "\n",
      "cisco C8000V (VXE) processor (revision VXE) with 2030646K/3075K bytes of memory.\n",
      "Processor board ID 91OI3IBZE2Q\n",
      "Router operating mode: Autonomous\n",
      "3 Gigabit Ethernet interfaces\n",
      "32768K bytes of non-volatile configuration memory.\n",
      "3960420K bytes of physical memory.\n",
      "5234688K bytes of virtual hard disk at bootflash:.\n",
      "\n",
      "Configuration register is 0x2102\n",
      "\n",
      "CPU times: user 12.3 ms, sys: 3.86 ms, total: 16.1 ms\n",
      "Wall time: 518 ms\n"
     ]
    }
   ],
   "source": [
    "%%time\n",
    "output = net_connect.send_command(\"show version\")\n",
    "print(output)"
   ]
  },
  {
   "cell_type": "markdown",
   "id": "009fa33c-22cb-48f5-a52d-e4b03619aa1e",
   "metadata": {},
   "source": [
    "### Time it with Parsing"
   ]
  },
  {
   "cell_type": "code",
   "execution_count": 3,
   "id": "e5c0914c-d365-4065-b4e4-314db5921d6d",
   "metadata": {},
   "outputs": [
    {
     "name": "stdout",
     "output_type": "stream",
     "text": [
      "[{'software_image': 'X86_64_LINUX_IOSD-UNIVERSALK9-M', 'version': '17.12.2', 'release': 'fc2', 'rommon': 'IOS-XE', 'hostname': 'cat8000v', 'uptime': '2 days, 17 hours, 34 minutes', 'uptime_years': '', 'uptime_weeks': '', 'uptime_days': '2', 'uptime_hours': '17', 'uptime_minutes': '34', 'reload_reason': 'reload', 'running_image': 'packages.conf', 'hardware': ['C8000V'], 'serial': ['91OI3IBZE2Q'], 'config_register': '0x2102', 'mac_address': [], 'restarted': ''}]\n",
      "CPU times: user 134 ms, sys: 11.5 ms, total: 145 ms\n",
      "Wall time: 680 ms\n"
     ]
    }
   ],
   "source": [
    "%%time\n",
    "# Time it with parsing\n",
    "output = net_connect.send_command(\"show version\", use_textfsm=True)\n",
    "print(output)"
   ]
  },
  {
   "cell_type": "markdown",
   "id": "b88a88f7-e45d-49de-9bd6-3fd9660d5083",
   "metadata": {},
   "source": [
    "### **3. Use a Loop to Collect Data from Multiple Show Commands**  \n",
    "- Instead of running one command at a time, **run a batch of commands and store outputs in a structured way**.  \n",
    "\n",
    "#### **Example: Execute Multiple Commands in a Loop**\n"
   ]
  },
  {
   "cell_type": "code",
   "execution_count": 4,
   "id": "8e89a0d2-6058-46b1-be3b-7b81f804d913",
   "metadata": {},
   "outputs": [
    {
     "name": "stdout",
     "output_type": "stream",
     "text": [
      "\n",
      "=== show ip interface brief ===\n",
      "Interface              IP-Address      OK? Method Status                Protocol\n",
      "GigabitEthernet1       10.10.20.48     YES NVRAM  up                    up      \n",
      "GigabitEthernet2       unassigned      YES NVRAM  administratively down down    \n",
      "GigabitEthernet3       unassigned      YES NVRAM  administratively down down    \n",
      "Loopback0              10.0.0.1        YES NVRAM  up                    up      \n",
      "Loopback10             unassigned      YES unset  up                    up      \n",
      "Loopback109            10.255.255.9    YES NVRAM  up                    up      \n",
      "VirtualPortGroup0      192.168.1.1     YES NVRAM  up                    up      \n",
      "\n",
      "\n",
      "=== show version ===\n",
      "Cisco IOS XE Software, Version 17.12.02\n",
      "Cisco IOS Software [Dublin], Virtual XE Software (X86_64_LINUX_IOSD-UNIVERSALK9-M), Version 17.12.2, RELEASE SOFTWARE (fc2)\n",
      "Technical Support: http://www.cisco.com/techsupport\n",
      "Copyright (c) 1986-2023 by Cisco Systems, Inc.\n",
      "Compiled Tue 14-Nov-23 05:59 by mcpre\n",
      "\n",
      "\n",
      "Cisco IOS-XE software, Copyright (c) 2005-2023 by cisco Systems, Inc.\n",
      "All rights reserved.  Certain components of Cisco IOS-XE software are\n",
      "licensed under the GNU General Public License (\"GPL\") Version 2.0.  The\n",
      "software code licensed under GPL Version 2.0 is free software that comes\n",
      "with ABSOLUTELY NO WARRANTY.  You can redistribute and/or modify such\n",
      "GPL code under the terms of GPL Version 2.0.  For more details, see the\n",
      "documentation or \"License Notice\" file accompanying the IOS-XE software,\n",
      "or the applicable URL provided on the flyer accompanying the IOS-XE\n",
      "software.\n",
      "\n",
      "\n",
      "ROM: IOS-XE ROMMON\n",
      "\n",
      "cat8000v uptime is 2 days, 17 hours, 35 minutes\n",
      "Uptime for this control processor is 2 days, 17 hours, 38 minutes\n",
      "System returned to ROM by reload\n",
      "System image file is \"bootflash:packages.conf\"\n",
      "Last reload reason: reload\n",
      "\n",
      "\n",
      "\n",
      "This product contains cryptographic features and is subject to United\n",
      "States and local country laws governing import, export, transfer and\n",
      "use. Delivery of Cisco cryptographic products does not imply\n",
      "third-party authority to import, export, distribute or use encryption.\n",
      "Importers, exporters, distributors and users are responsible for\n",
      "compliance with U.S. and local country laws. By using this product you\n",
      "agree to comply with applicable laws and regulations. If you are unable\n",
      "to comply with U.S. and local laws, return this product immediately.\n",
      "\n",
      "A summary of U.S. laws governing Cisco cryptographic products may be found at:\n",
      "http://www.cisco.com/wwl/export/crypto/tool/stqrg.html\n",
      "\n",
      "If you require further assistance please contact us by sending email to\n",
      "export@cisco.com.\n",
      "\n",
      "License Level: \n",
      "License Type: Perpetual\n",
      "Next reload license Level: \n",
      "\n",
      "Addon License Level: \n",
      "Addon License Type: Subscription\n",
      "Next reload addon license Level: \n",
      "\n",
      "The current throughput level is 250000 kbps \n",
      "\n",
      "\n",
      "Smart Licensing Status: Smart Licensing Using Policy\n",
      "\n",
      "cisco C8000V (VXE) processor (revision VXE) with 2030646K/3075K bytes of memory.\n",
      "Processor board ID 91OI3IBZE2Q\n",
      "Router operating mode: Autonomous\n",
      "3 Gigabit Ethernet interfaces\n",
      "32768K bytes of non-volatile configuration memory.\n",
      "3960420K bytes of physical memory.\n",
      "5234688K bytes of virtual hard disk at bootflash:.\n",
      "\n",
      "Configuration register is 0x2102\n",
      "\n",
      "\n",
      "\n",
      "=== show clock ===\n",
      "*09:43:11.779 UTC Mon Feb 10 2025\n",
      "\n"
     ]
    }
   ],
   "source": [
    "commands = [\"show ip interface brief\", \"show version\", \"show clock\"]\n",
    "results = {}\n",
    "\n",
    "for cmd in commands:\n",
    "    results[cmd] = net_connect.send_command(cmd)\n",
    "\n",
    "# Print results\n",
    "for cmd, output in results.items():\n",
    "    print(f\"\\n=== {cmd} ===\\n{output}\\n\")"
   ]
  },
  {
   "cell_type": "code",
   "execution_count": null,
   "id": "d871313f-792f-40ef-857c-f51555b11417",
   "metadata": {},
   "outputs": [],
   "source": []
  }
 ],
 "metadata": {
  "kernelspec": {
   "display_name": "Python 3 (ipykernel)",
   "language": "python",
   "name": "python3"
  },
  "language_info": {
   "codemirror_mode": {
    "name": "ipython",
    "version": 3
   },
   "file_extension": ".py",
   "mimetype": "text/x-python",
   "name": "python",
   "nbconvert_exporter": "python",
   "pygments_lexer": "ipython3",
   "version": "3.10.4"
  }
 },
 "nbformat": 4,
 "nbformat_minor": 5
}
