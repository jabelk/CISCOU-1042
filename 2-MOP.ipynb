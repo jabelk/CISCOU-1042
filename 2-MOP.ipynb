{
 "cells": [
  {
   "cell_type": "markdown",
   "id": "294841de-674d-46ef-8c91-0a4c9dbf649a",
   "metadata": {},
   "source": [
    "# Method of Procedure: Verify Show IP Interface Brief\n",
    "\n",
    "This document when run will:\n",
    "- Connect to a network device\n",
    "- Pre-Check Interfaces\n",
    "- Make Loopback Change\n",
    "- Post-Check Interfaces\n",
    "- Use the operational data to build a Markdown table and CSV Report"
   ]
  },
  {
   "cell_type": "code",
   "execution_count": 1,
   "id": "f8bfebe5-fbf1-41a9-a705-93b23d5c9055",
   "metadata": {},
   "outputs": [],
   "source": [
    "# The device dictionary to be used in Netmiko\n",
    "\n",
    "device = {\n",
    "    \"device_type\": \"cisco_ios\",\n",
    "    \"host\": \"10.10.20.48\",\n",
    "    \"username\": \"developer\",\n",
    "    \"password\": \"C1sco12345\",\n",
    "}\n",
    "\n",
    "# Command to be sent to the device\n",
    "command = \"show ip interface brief\"\n",
    "\n",
    "# Define the configuration\n",
    "config_commands = [\n",
    "    \"interface Loopback1337\",\n",
    "    \"ip address 192.168.100.1 255.255.255.0\",\n",
    "    \"description Configured via Jupyter Notebook\"\n",
    "]\n"
   ]
  },
  {
   "cell_type": "code",
   "execution_count": 2,
   "id": "44431803-c212-41f8-83d3-6a05f6cd318c",
   "metadata": {},
   "outputs": [
    {
     "name": "stdout",
     "output_type": "stream",
     "text": [
      "Interface              IP-Address      OK? Method Status                Protocol\n",
      "GigabitEthernet1       10.10.20.48     YES NVRAM  up                    up      \n",
      "GigabitEthernet2       unassigned      YES NVRAM  administratively down down    \n",
      "GigabitEthernet3       unassigned      YES NVRAM  administratively down down    \n",
      "Loopback0              10.0.0.1        YES NVRAM  up                    up      \n",
      "Loopback10             unassigned      YES unset  up                    up      \n",
      "Loopback109            10.255.255.9    YES NVRAM  up                    up      \n",
      "VirtualPortGroup0      192.168.1.1     YES NVRAM  up                    up      \n",
      "[\n",
      "    {\n",
      "        \"interface\": \"GigabitEthernet1\",\n",
      "        \"ip_address\": \"10.10.20.48\",\n",
      "        \"status\": \"up\",\n",
      "        \"proto\": \"up\"\n",
      "    },\n",
      "    {\n",
      "        \"interface\": \"GigabitEthernet2\",\n",
      "        \"ip_address\": \"unassigned\",\n",
      "        \"status\": \"administratively down\",\n",
      "        \"proto\": \"down\"\n",
      "    },\n",
      "    {\n",
      "        \"interface\": \"GigabitEthernet3\",\n",
      "        \"ip_address\": \"unassigned\",\n",
      "        \"status\": \"administratively down\",\n",
      "        \"proto\": \"down\"\n",
      "    },\n",
      "    {\n",
      "        \"interface\": \"Loopback0\",\n",
      "        \"ip_address\": \"10.0.0.1\",\n",
      "        \"status\": \"up\",\n",
      "        \"proto\": \"up\"\n",
      "    },\n",
      "    {\n",
      "        \"interface\": \"Loopback10\",\n",
      "        \"ip_address\": \"unassigned\",\n",
      "        \"status\": \"up\",\n",
      "        \"proto\": \"up\"\n",
      "    },\n",
      "    {\n",
      "        \"interface\": \"Loopback109\",\n",
      "        \"ip_address\": \"10.255.255.9\",\n",
      "        \"status\": \"up\",\n",
      "        \"proto\": \"up\"\n",
      "    },\n",
      "    {\n",
      "        \"interface\": \"VirtualPortGroup0\",\n",
      "        \"ip_address\": \"192.168.1.1\",\n",
      "        \"status\": \"up\",\n",
      "        \"proto\": \"up\"\n",
      "    }\n",
      "]\n"
     ]
    }
   ],
   "source": [
    "from netmiko import ConnectHandler\n",
    "import json\n",
    "\n",
    "net_connect = ConnectHandler(**device)\n",
    "\n",
    "# Pre-Change Check Existing Loopbacks\n",
    "pre_output = net_connect.send_command(command)\n",
    "print(pre_output)\n",
    "# Parse the output with TextFSM\n",
    "pre_output_json = net_connect.send_command(command, use_textfsm=True)\n",
    "print(json.dumps(pre_output_json, indent=4))"
   ]
  },
  {
   "cell_type": "code",
   "execution_count": 3,
   "id": "dc6957dc-3e20-4295-b0b2-522e6729c0cc",
   "metadata": {},
   "outputs": [
    {
     "name": "stdout",
     "output_type": "stream",
     "text": [
      "configure terminal\n",
      "Enter configuration commands, one per line.  End with CNTL/Z.\n",
      "cat8000v(config)#interface Loopback1337\n",
      "cat8000v(config-if)#ip address 192.168.100.1 255.255.255.0\n",
      "cat8000v(config-if)#description Configured via Jupyter Notebook\n",
      "cat8000v(config-if)#end\n",
      "cat8000v#\n",
      "Verify Change\n",
      "Interface              IP-Address      OK? Method Status                Protocol\n",
      "GigabitEthernet1       10.10.20.48     YES NVRAM  up                    up      \n",
      "GigabitEthernet2       unassigned      YES NVRAM  administratively down down    \n",
      "GigabitEthernet3       unassigned      YES NVRAM  administratively down down    \n",
      "Loopback0              10.0.0.1        YES NVRAM  up                    up      \n",
      "Loopback10             unassigned      YES unset  up                    up      \n",
      "Loopback109            10.255.255.9    YES NVRAM  up                    up      \n",
      "Loopback1337           192.168.100.1   YES manual up                    up      \n",
      "VirtualPortGroup0      192.168.1.1     YES NVRAM  up                    up      \n"
     ]
    }
   ],
   "source": [
    "\n",
    "# Apply configuration\n",
    "print( net_connect.send_config_set(config_commands))\n",
    "\n",
    "# Verify\n",
    "print(\"Verify Change\")\n",
    "post_output = net_connect.send_command(\"show ip interface brief\")\n",
    "print(post_output)\n",
    "post_output_json = net_connect.send_command(command, use_textfsm=True)\n",
    "\n",
    "# Reset example\n",
    "config_commands = [\n",
    "    \"no interface Loopback1337\"\n",
    "]\n",
    "output = net_connect.send_config_set(config_commands)"
   ]
  },
  {
   "cell_type": "markdown",
   "id": "53203084-d104-4db7-aa2c-ad727cd7f8d9",
   "metadata": {},
   "source": [
    "### Extracting the Data Pre-Change\n",
    "\n",
    "Now that we have gathered and parsed the operational data, we can extract values and plug them into various Python statements. First, let's demonstrate a simple example of plugging in the values into a human readable sentence."
   ]
  },
  {
   "cell_type": "code",
   "execution_count": 4,
   "id": "a2546270-5ac0-4fed-8820-b4f989ad6c6f",
   "metadata": {},
   "outputs": [
    {
     "name": "stdout",
     "output_type": "stream",
     "text": [
      "Pre-Change Interface Status\n",
      "Interface GigabitEthernet1 has IP 10.10.20.48 and is up\n",
      "Interface GigabitEthernet2 has IP unassigned and is administratively down\n",
      "Interface GigabitEthernet3 has IP unassigned and is administratively down\n",
      "Interface Loopback0 has IP 10.0.0.1 and is up\n",
      "Interface Loopback10 has IP unassigned and is up\n",
      "Interface Loopback109 has IP 10.255.255.9 and is up\n",
      "Interface VirtualPortGroup0 has IP 192.168.1.1 and is up\n"
     ]
    }
   ],
   "source": [
    "print(\"Pre-Change Interface Status\")\n",
    "for interface in pre_output_json:\n",
    "    print(f\"Interface {interface['interface']} has IP {interface['ip_address']} and is {interface['status']}\")"
   ]
  },
  {
   "cell_type": "markdown",
   "id": "e9d40fa7-3f9b-46e1-83b3-03ffc7a84426",
   "metadata": {},
   "source": [
    "### Extracting the Data Post-Change\n",
    "\n",
    "We follow the same logic, but now interacting with the `post_output_json` variable:\n"
   ]
  },
  {
   "cell_type": "code",
   "execution_count": 5,
   "id": "b06b2dde-6d7e-435a-9a58-e13762b8a1c3",
   "metadata": {},
   "outputs": [
    {
     "name": "stdout",
     "output_type": "stream",
     "text": [
      "Post-Change Interface Status\n",
      "Interface GigabitEthernet1 has IP 10.10.20.48 and is up\n",
      "Interface GigabitEthernet2 has IP unassigned and is administratively down\n",
      "Interface GigabitEthernet3 has IP unassigned and is administratively down\n",
      "Interface Loopback0 has IP 10.0.0.1 and is up\n",
      "Interface Loopback10 has IP unassigned and is up\n",
      "Interface Loopback109 has IP 10.255.255.9 and is up\n",
      "Interface Loopback1337 has IP 192.168.100.1 and is up\n",
      "Interface VirtualPortGroup0 has IP 192.168.1.1 and is up\n"
     ]
    }
   ],
   "source": [
    "print(\"Post-Change Interface Status\")\n",
    "for interface in post_output_json:\n",
    "    print(f\"Interface {interface['interface']} has IP {interface['ip_address']} and is {interface['status']}\")"
   ]
  },
  {
   "cell_type": "markdown",
   "id": "8e779f23-2e2e-4109-9e1e-0eb85646e661",
   "metadata": {},
   "source": [
    "#### Analyze the data\n",
    "\n",
    "Now, let’s use the structured data to perform some basic analysis. For instance, you can count how many interfaces are up versus down using built-in Python string features:"
   ]
  },
  {
   "cell_type": "code",
   "execution_count": 6,
   "id": "bf39e0a7-9411-444b-ab44-9c115bcfa1f6",
   "metadata": {},
   "outputs": [
    {
     "name": "stdout",
     "output_type": "stream",
     "text": [
      "Number of interfaces up before the change: 5\n",
      "Number of interfaces down before the change: 0\n",
      "Number of interfaces up after the change: 6\n",
      "Number of interfaces down after the change: 0\n"
     ]
    }
   ],
   "source": [
    "# pre change\n",
    "up_count = sum(1 for i in pre_output_json if i['status'] == 'up')\n",
    "down_count = sum(1 for i in pre_output_json if i['status'] == 'down')\n",
    "\n",
    "print(f\"Number of interfaces up before the change: {up_count}\")\n",
    "print(f\"Number of interfaces down before the change: {down_count}\")\n",
    "\n",
    "# post change\n",
    "up_count = sum(1 for i in post_output_json if i['status'] == 'up')\n",
    "down_count = sum(1 for i in post_output_json if i['status'] == 'down')\n",
    "\n",
    "print(f\"Number of interfaces up after the change: {up_count}\")\n",
    "print(f\"Number of interfaces down after the change: {down_count}\")"
   ]
  },
  {
   "cell_type": "markdown",
   "id": "90653fd3-2c5b-417e-bf6c-300b8c20b020",
   "metadata": {},
   "source": [
    "### Visualize the data\n",
    "\n",
    "We will dynamically fill the Markdown table by looping through our JSON data. This Python snippet constructs the Markdown rows based on our data:"
   ]
  },
  {
   "cell_type": "code",
   "execution_count": 7,
   "id": "9204ecf5-cdda-4b06-aae7-6fa24d9a7cf4",
   "metadata": {},
   "outputs": [
    {
     "data": {
      "text/markdown": [
       "### Pre-Change Interfaces\n",
       "\n",
       "| Interface | IP Address | Status | Protocol |\n",
       "|------------|------------|--------|----------|\n",
       "| GigabitEthernet1 | 10.10.20.48 | up | up |\n",
       "| GigabitEthernet2 | unassigned | administratively down | down |\n",
       "| GigabitEthernet3 | unassigned | administratively down | down |\n",
       "| Loopback0 | 10.0.0.1 | up | up |\n",
       "| Loopback10 | unassigned | up | up |\n",
       "| Loopback109 | 10.255.255.9 | up | up |\n",
       "| VirtualPortGroup0 | 192.168.1.1 | up | up |\n"
      ],
      "text/plain": [
       "<IPython.core.display.Markdown object>"
      ]
     },
     "metadata": {},
     "output_type": "display_data"
    },
    {
     "data": {
      "text/markdown": [
       "### Post-Change Interfaces\n",
       "\n",
       "| Interface | IP Address | Status | Protocol |\n",
       "|------------|------------|--------|----------|\n",
       "| GigabitEthernet1 | 10.10.20.48 | up | up |\n",
       "| GigabitEthernet2 | unassigned | administratively down | down |\n",
       "| GigabitEthernet3 | unassigned | administratively down | down |\n",
       "| Loopback0 | 10.0.0.1 | up | up |\n",
       "| Loopback10 | unassigned | up | up |\n",
       "| Loopback109 | 10.255.255.9 | up | up |\n",
       "| Loopback1337 | 192.168.100.1 | up | up |\n",
       "| VirtualPortGroup0 | 192.168.1.1 | up | up |\n"
      ],
      "text/plain": [
       "<IPython.core.display.Markdown object>"
      ]
     },
     "metadata": {},
     "output_type": "display_data"
    }
   ],
   "source": [
    "from IPython.display import Markdown\n",
    "\n",
    "# Function to generate and display a Markdown table\n",
    "def display_markdown_table(title, data):\n",
    "    \"\"\"Generate and display a Markdown table for interface data.\"\"\"\n",
    "    markdown_content = f\"### {title}\\n\\n\"\n",
    "    \n",
    "    # Initialize the markdown table string\n",
    "    markdown_table = \"| Interface | IP Address | Status | Protocol |\\n\"\n",
    "    markdown_table += \"|------------|------------|--------|----------|\\n\"\n",
    "\n",
    "    # Append each interface's data as a new row in the markdown table\n",
    "    for interface in data:\n",
    "        markdown_table += f\"| {interface['interface']} | {interface['ip_address']} | {interface['status']} | {interface['proto']} |\\n\"\n",
    "\n",
    "    # Combine header and table\n",
    "    full_markdown = markdown_content + markdown_table\n",
    "\n",
    "    # Display the markdown table in the notebook\n",
    "    display(Markdown(full_markdown))\n",
    "\n",
    "# Display pre-change and post-change tables using the function\n",
    "display_markdown_table(\"Pre-Change Interfaces\", pre_output_json)\n",
    "display_markdown_table(\"Post-Change Interfaces\", post_output_json)\n"
   ]
  },
  {
   "cell_type": "markdown",
   "id": "1a564c7f-48f9-49d0-92d0-0c2bd23db947",
   "metadata": {},
   "source": [
    "### Export the Data\n",
    "\n",
    "Since we have the data in a structured format, we can use the CSV Python library to plug in the values from our parsed interface data.\n",
    "\n",
    "We can make two files, one for pre-change, and one for post-change, timestamped."
   ]
  },
  {
   "cell_type": "code",
   "execution_count": 8,
   "id": "3f7b1e78-7d2b-4243-a061-acd59e14b80d",
   "metadata": {},
   "outputs": [
    {
     "name": "stdout",
     "output_type": "stream",
     "text": [
      "✅ Data successfully saved to pre_sh_ip_int_fsm_2025-02-10_10-49-26.csv\n",
      "✅ Data successfully saved to post_sh_ip_int_fsm_2025-02-10_10-49-26.csv\n"
     ]
    }
   ],
   "source": [
    "import csv, json\n",
    "from datetime import datetime\n",
    "\n",
    "# Define CSV column headers\n",
    "csv_columns = [\"interface\", \"ip_address\", \"status\", \"proto\"]\n",
    "\n",
    "# Generate timestamp for unique filenames\n",
    "timestamp = datetime.now().strftime(\"%Y-%m-%d_%H-%M-%S\")\n",
    "\n",
    "# Define filenames for pre- and post-change data\n",
    "pre_csv_file = f\"pre_sh_ip_int_fsm_{timestamp}.csv\"\n",
    "post_csv_file = f\"post_sh_ip_int_fsm_{timestamp}.csv\"\n",
    "\n",
    "# Function to write JSON data to a CSV file\n",
    "def write_to_csv(filename, data):\n",
    "    try:\n",
    "        with open(filename, \"w\") as csv_file:\n",
    "            writer = csv.DictWriter(csv_file, fieldnames=csv_columns)\n",
    "            writer.writeheader()\n",
    "            for entry in data:\n",
    "                writer.writerow(entry)\n",
    "        print(f\"✅ Data successfully saved to {filename}\")\n",
    "    except IOError:\n",
    "        print(f\"❌ I/O error while saving {filename}\")\n",
    "\n",
    "# Write both pre-change and post-change data\n",
    "write_to_csv(pre_csv_file, pre_output_json)\n",
    "write_to_csv(post_csv_file, post_output_json)\n"
   ]
  },
  {
   "cell_type": "code",
   "execution_count": null,
   "id": "28bb6556-0674-4db1-867c-864d3ea81f5a",
   "metadata": {},
   "outputs": [],
   "source": []
  }
 ],
 "metadata": {
  "kernelspec": {
   "display_name": "Python 3 (ipykernel)",
   "language": "python",
   "name": "python3"
  },
  "language_info": {
   "codemirror_mode": {
    "name": "ipython",
    "version": 3
   },
   "file_extension": ".py",
   "mimetype": "text/x-python",
   "name": "python",
   "nbconvert_exporter": "python",
   "pygments_lexer": "ipython3",
   "version": "3.10.4"
  }
 },
 "nbformat": 4,
 "nbformat_minor": 5
}
